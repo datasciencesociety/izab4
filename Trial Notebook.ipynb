{
 "cells": [
  {
   "cell_type": "code",
   "execution_count": 23,
   "metadata": {},
   "outputs": [
    {
     "name": "stderr",
     "output_type": "stream",
     "text": [
      "also installing the dependencies ‘gdtools’, ‘lwgeom’, ‘rgdal’, ‘rgeos’, ‘svglite’, ‘tmaptools’, ‘sf’, ‘units’, ‘mapview’\n",
      "\n",
      "Warning message in install.packages(\"tmap\"):\n",
      "“installation of package ‘gdtools’ had non-zero exit status”Warning message in install.packages(\"tmap\"):\n",
      "“installation of package ‘rgdal’ had non-zero exit status”Warning message in install.packages(\"tmap\"):\n",
      "“installation of package ‘rgeos’ had non-zero exit status”Warning message in install.packages(\"tmap\"):\n",
      "“installation of package ‘units’ had non-zero exit status”Warning message in install.packages(\"tmap\"):\n",
      "“installation of package ‘svglite’ had non-zero exit status”Warning message in install.packages(\"tmap\"):\n",
      "“installation of package ‘sf’ had non-zero exit status”Warning message in install.packages(\"tmap\"):\n",
      "“installation of package ‘lwgeom’ had non-zero exit status”Warning message in install.packages(\"tmap\"):\n",
      "“installation of package ‘mapview’ had non-zero exit status”Warning message in install.packages(\"tmap\"):\n",
      "“installation of package ‘tmaptools’ had non-zero exit status”Warning message in install.packages(\"tmap\"):\n",
      "“installation of package ‘tmap’ had non-zero exit status”Updating HTML index of packages in '.Library'\n",
      "Making 'packages.html' ... done\n",
      "also installing the dependency ‘units’\n",
      "\n",
      "Warning message in install.packages(\"sf\"):\n",
      "“installation of package ‘units’ had non-zero exit status”Warning message in install.packages(\"sf\"):\n",
      "“installation of package ‘sf’ had non-zero exit status”Updating HTML index of packages in '.Library'\n",
      "Making 'packages.html' ... done\n"
     ]
    },
    {
     "ename": "ERROR",
     "evalue": "Error in library(sf): there is no package called ‘sf’\n",
     "output_type": "error",
     "traceback": [
      "Error in library(sf): there is no package called ‘sf’\nTraceback:\n",
      "1. library(sf)",
      "2. stop(txt, domain = NA)"
     ]
    }
   ],
   "source": [
    "concind1=read.csv(\"ConcInd1.csv\")\n",
    "atm=read.csv(\"atmosphere_profile_train.csv\")\n",
    "constr=read.csv(\"construction_sites.csv\")\n",
    "ind=read.csv(\"industrial_pollution_v2.csv\")\n",
    "topo=read.csv(\"sofia_topo.csv\")\n",
    "stat=read.csv(\"stations_data_train.csv\")\n",
    "wth=read.csv(\"weather_train.csv\")\n",
    "#hh=read.csv(\"household_heating.csv\")\n",
    "statloc=read.csv(\"Stations.csv\")\n",
    "inddec=read.csv(\"Industrial-pollution-lat-lon.csv\")\n",
    "\n",
    "library(tidyverse)\n",
    "library(dplyr)\n",
    "library(leaflet)\n",
    "library(leaflet.extras)\n",
    "library(sp)\n",
    "library(raster)\n",
    "library(spData)\n",
    "# library(spDataLarge)\n",
    "\n",
    "install.packages('tmap')\n",
    "install.packages(\"sf\")\n",
    "library(sf)\n",
    "library(tmap) # for static and interactive maps\n",
    "library(leaflet) # for interactive maps\n",
    "library(mapview) # for interactive maps\n",
    "library(ggplot2) # tidyverse vis package\n",
    "library(shiny) \n"
   ]
  },
  {
   "cell_type": "markdown",
   "metadata": {},
   "source": [
    "#factory chimney\n",
    "industrialIcon <- makeIcon(\n",
    "  iconUrl = \"https://cdn3.iconfinder.com/data/icons/buildings-and-real-estates/30/factory-pollution-512.png\",\n",
    "  iconWidth = 55, iconHeight = 70,\n",
    "  iconAnchorX = 22, iconAnchorY = 94\n",
    ")"
   ]
  },
  {
   "cell_type": "code",
   "execution_count": 21,
   "metadata": {},
   "outputs": [],
   "source": [
    "#factory chimney\n",
    "industrialIcon <- makeIcon(\n",
    "  iconUrl = \"https://cdn3.iconfinder.com/data/icons/buildings-and-real-estates/30/factory-pollution-512.png\",\n",
    "  iconWidth = 55, iconHeight = 70,\n",
    "  iconAnchorX = 22, iconAnchorY = 94\n",
    ")\n",
    "#stations\n",
    "industrialIconstat <- makeIcon(\n",
    "  iconUrl = \"https://cdn3.iconfinder.com/data/icons/universal-web-5/83/201-512.png\",\n",
    "  iconWidth = 57, iconHeight = 72,\n",
    "  iconAnchorX = 22, iconAnchorY = 94\n",
    ")"
   ]
  },
  {
   "cell_type": "code",
   "execution_count": 24,
   "metadata": {},
   "outputs": [
    {
     "name": "stderr",
     "output_type": "stream",
     "text": [
      "Assuming \"Longitude\" and \"Latitude\" are longitude and latitude, respectively\n",
      "ERROR while rich displaying an object: Error in file(file, \"rb\"): invalid 'description' argument\n",
      "\n",
      "Traceback:\n",
      "1. FUN(X[[i]], ...)\n",
      "2. tryCatch(withCallingHandlers({\n",
      " .     rpr <- mime2repr[[mime]](obj)\n",
      " .     if (is.null(rpr)) \n",
      " .         return(NULL)\n",
      " .     prepare_content(is.raw(rpr), rpr)\n",
      " . }, error = error_handler), error = outer_handler)\n",
      "3. tryCatchList(expr, classes, parentenv, handlers)\n",
      "4. tryCatchOne(expr, names, parentenv, handlers[[1L]])\n",
      "5. doTryCatch(return(expr), name, parentenv, handler)\n",
      "6. withCallingHandlers({\n",
      " .     rpr <- mime2repr[[mime]](obj)\n",
      " .     if (is.null(rpr)) \n",
      " .         return(NULL)\n",
      " .     prepare_content(is.raw(rpr), rpr)\n",
      " . }, error = error_handler)\n",
      "7. mime2repr[[mime]](obj)\n",
      "8. repr_html.htmlwidget(obj)\n",
      "9. lapply(obj$dependencies, function(dep) {\n",
      " .     html <- c()\n",
      " .     if (length(dep$script) > 0) {\n",
      " .         f <- file.path(dep$src$file, dep$script)\n",
      " .         html <- c(html, sprintf(\"<script src=\\\"%s\\\"></script>\", \n",
      " .             dataURI(mime = \"application/javascript\", file = f)))\n",
      " .     }\n",
      " .     if (length(dep$stylesheet) > 0) {\n",
      " .         f <- file.path(dep$src$file, dep$stylesheet)\n",
      " .         html <- c(html, sprintf(\"<link href=\\\"%s\\\" rel=\\\"stylesheet\\\" />\", \n",
      " .             dataURI(mime = \"text/css;charset-utf-8\", file = f)))\n",
      " .     }\n",
      " .     paste(html, collapse = \"\\n\")\n",
      " . })\n",
      "10. FUN(X[[i]], ...)\n",
      "11. sprintf(\"<script src=\\\"%s\\\"></script>\", dataURI(mime = \"application/javascript\", \n",
      "  .     file = f))\n",
      "12. dataURI(mime = \"application/javascript\", file = f)\n",
      "13. file(file, \"rb\")\n"
     ]
    },
    {
     "data": {
      "text/plain": [
       "HTML widgets cannot be represented in plain text (need html)"
      ]
     },
     "metadata": {},
     "output_type": "display_data"
    }
   ],
   "source": [
    "leaflet(inddec) %>% addTiles() %>% addMarkers(\n",
    "  clusterOptions = markerClusterOptions()\n",
    ")"
   ]
  },
  {
   "cell_type": "code",
   "execution_count": 22,
   "metadata": {},
   "outputs": [
    {
     "ename": "ERROR",
     "evalue": "Error in resolveFormula(lng, data): object 'Longitude' not found\n",
     "output_type": "error",
     "traceback": [
      "Error in resolveFormula(lng, data): object 'Longitude' not found\nTraceback:\n",
      "1. leaflet() %>% addProviderTiles(providers$Esri.WorldGrayCanvas, \n .     group = \"Basic Map\") %>% addProviderTiles(providers$Esri.WorldTopoMap, \n .     group = \"Topo Map\") %>% addMarkers(data = inddec, lng = Longitude, \n .     lat = Latitude, clusterOptions = markerClusterOptions(), \n .     icon = industrialIcon, group = \"Industrial Pollution\") %>% \n .     addMarkers(data = statloc, lng = Longitude, lat = Latitude, \n .         icon = industrialIconstat, group = \"Official Stations\") %>% \n .     addHeatmap(data = concind1, lng = ~Longitude, lat = ~Latitude, \n .         intensity = ~Elevation_1000, gradient = \"Greys\", blur = 30, \n .         radius = 27, minOpacity = 0.05, group = \"Industrial Pollution: Spread 1000 m\") %>% \n .     addHeatmap(data = concind1, lng = ~Longitude, lat = ~Latitude, \n .         intensity = ~Elevation_2000, gradient = \"Greys\", blur = 30, \n .         radius = 29, minOpacity = 0.05, group = \"Industrial Pollution: Spread 2000 m\") %>% \n .     addHeatmap(data = concind1, lng = ~Longitude, lat = ~Latitude, \n .         intensity = ~Elevation_3000, gradient = \"Greys\", blur = 30, \n .         radius = 31, minOpacity = 0.05, group = \"Industrial Pollution: Spread 3000 m\") %>% \n .     addHeatmap(data = concind1, lng = ~Longitude, lat = ~Latitude, \n .         intensity = ~Elevation_4000, gradient = \"Greys\", blur = 30, \n .         radius = 33, minOpacity = 0.05, group = \"Industrial Pollution: Spread 4000 m\") %>% \n .     addHeatmap(data = concind1, lng = ~Longitude, lat = ~Latitude, \n .         intensity = ~Elevation_5000, gradient = \"Greys\", blur = 30, \n .         radius = 35, minOpacity = 0.05, group = \"Industrial Pollution: Spread 5000 m\") %>% \n .     addHeatmap(data = concind1, lng = ~Longitude, lat = ~Latitude, \n .         intensity = ~Elevation_6000, gradient = \"Greys\", blur = 30, \n .         radius = 37, minOpacity = 0.05, group = \"Industrial Pollution: Spread 6000 m\") %>% \n .     addHeatmap(data = concind1, lng = ~Longitude, lat = ~Latitude, \n .         intensity = ~Elevation_7000, gradient = \"Greys\", blur = 30, \n .         radius = 39, minOpacity = 0.05, group = \"Industrial Pollution: Spread 7000 m\") %>% \n .     addHeatmap(data = concind1, lng = ~Longitude, lat = ~Latitude, \n .         intensity = ~Elevation_8000, gradient = \"Greys\", blur = 30, \n .         radius = 41, minOpacity = 0.05, group = \"Industrial Pollution: Spread 8000 m\") %>% \n .     addHeatmap(data = concind1, lng = ~Longitude, lat = ~Latitude, \n .         intensity = ~Elevation_9000, gradient = \"Greys\", blur = 30, \n .         radius = 43, minOpacity = 0.05, group = \"Industrial Pollution: Spread 9000 m\") %>% \n .     addHeatmap(data = concind1, lng = ~Longitude, lat = ~Latitude, \n .         intensity = ~Elevation_10000, gradient = \"Greys\", blur = 30, \n .         radius = 45, minOpacity = 0.05, group = \"Industrial Pollution: Spread 10000 m\") %>% \n .     addLayersControl(baseGroups = c(\"Basic Map\", \"Topo Map\"), \n .         overlayGroups = c(\"Official Stations\", \"Industrial Pollution\", \n .             \"Industrial Pollution: Spread 1000 m\", \"Industrial Pollution: Spread 2000 m\", \n .             \"Industrial Pollution: Spread 3000 m\", \"Industrial Pollution: Spread 4000 m\", \n .             \"Industrial Pollution: Spread 5000 m\", \"Industrial Pollution: Spread 6000 m\", \n .             \"Industrial Pollution: Spread 7000 m\", \"Industrial Pollution: Spread 8000 m\", \n .             \"Industrial Pollution: Spread 9000 m\", \"Industrial Pollution: Spread 10000 m\"), \n .         options = layersControlOptions(collapsed = FALSE))",
      "2. withVisible(eval(quote(`_fseq`(`_lhs`)), env, env))",
      "3. eval(quote(`_fseq`(`_lhs`)), env, env)",
      "4. eval(quote(`_fseq`(`_lhs`)), env, env)",
      "5. `_fseq`(`_lhs`)",
      "6. freduce(value, `_function_list`)",
      "7. function_list[[i]](value)",
      "8. addMarkers(., data = inddec, lng = Longitude, lat = Latitude, \n .     clusterOptions = markerClusterOptions(), icon = industrialIcon, \n .     group = \"Industrial Pollution\")",
      "9. derivePoints(data, lng, lat, missing(lng), missing(lat), \"addMarkers\")",
      "10. resolveFormula(lng, data)"
     ]
    }
   ],
   "source": [
    "leaflet() %>% \n",
    "              \n",
    "              # Base groups\n",
    "              # addTiles(group = \"Default\") %>%\n",
    "              addProviderTiles(providers$Esri.WorldGrayCanvas, group = \"Basic Map\") %>% \n",
    "              addProviderTiles(providers$Esri.WorldTopoMap, group = \"Topo Map\") %>%\n",
    "              # addEsriBasemapLayer(TesesriBasemapLayers$Gray, group = \"Simple Map\") %>%\n",
    "              # addEsriImageMapLayer(\n",
    "              #   url = 'https://sampleserver3.arcgisonline.com/ArcGIS/rest/services/World/MODIS/ImageServer',\n",
    "              #   options = imageMapLayerOptions(useCors = TRUE)) %>%\n",
    "              \n",
    "              # Overlay groups\n",
    "              \n",
    "              # ------- industrial polluters\n",
    "              addMarkers(data = inddec, lng=Longitude, lat=Latitude,\n",
    "                         clusterOptions = markerClusterOptions(),\n",
    "                         icon = industrialIcon, group = \"Industrial Pollution\") %>% \n",
    "              \n",
    "              # addCircles(data = Test, ~Longitude, ~Latitude, ~Concentration*1.5, stroke = F, \n",
    "              #            col = ~pal(Concentration), opacity = 0.7, group = \"Concentration\") %>% \n",
    "              \n",
    "              # ------ stations\n",
    "              addMarkers(data = statloc, lng=Longitude, lat=Latitude,\n",
    "                         # clusterOptions = markerClusterOptions(),\n",
    "                         icon = industrialIconstat, group = \"Official Stations\") %>% \n",
    "              \n",
    "              addHeatmap(data = concind1, lng = ~Longitude, lat = ~Latitude, \n",
    "                         intensity = ~Elevation_1000, gradient = \"Greys\",\n",
    "                         blur = 30, radius = 27,\n",
    "                         minOpacity = 0.05,\n",
    "                         group = \"Industrial Pollution: Spread 1000 m\") %>% \n",
    "              \n",
    "              addHeatmap(data = concind1, lng = ~Longitude, lat = ~Latitude, \n",
    "                         intensity = ~Elevation_2000, gradient = \"Greys\",\n",
    "                         blur = 30, radius = 29,\n",
    "                         minOpacity = 0.05,\n",
    "                         group = \"Industrial Pollution: Spread 2000 m\") %>% \n",
    "              \n",
    "              addHeatmap(data = concind1, lng = ~Longitude, lat = ~Latitude, \n",
    "                         intensity = ~Elevation_3000, gradient = \"Greys\",\n",
    "                         blur = 30, radius = 31,\n",
    "                         minOpacity = 0.05,\n",
    "                         group = \"Industrial Pollution: Spread 3000 m\") %>% \n",
    "              \n",
    "              addHeatmap(data = concind1, lng = ~Longitude, lat = ~Latitude, \n",
    "                         intensity = ~Elevation_4000, gradient = \"Greys\",\n",
    "                         blur = 30, radius = 33,\n",
    "                         minOpacity = 0.05,\n",
    "                         group = \"Industrial Pollution: Spread 4000 m\") %>% \n",
    "              \n",
    "              addHeatmap(data = concind1, lng = ~Longitude, lat = ~Latitude, \n",
    "                         intensity = ~Elevation_5000, gradient = \"Greys\",\n",
    "                         blur = 30, radius = 35,\n",
    "                         minOpacity = 0.05,\n",
    "                         group = \"Industrial Pollution: Spread 5000 m\") %>% \n",
    "              \n",
    "              addHeatmap(data = concind1, lng = ~Longitude, lat = ~Latitude, \n",
    "                         intensity = ~Elevation_6000, gradient = \"Greys\",\n",
    "                         blur = 30, radius = 37,\n",
    "                         minOpacity = 0.05,\n",
    "                         group = \"Industrial Pollution: Spread 6000 m\") %>% \n",
    "              \n",
    "              addHeatmap(data = concind1, lng = ~Longitude, lat = ~Latitude, \n",
    "                         intensity = ~Elevation_7000, gradient = \"Greys\",\n",
    "                         blur = 30, radius = 39,\n",
    "                         minOpacity = 0.05,\n",
    "                         group = \"Industrial Pollution: Spread 7000 m\") %>% \n",
    "              \n",
    "              addHeatmap(data = concind1, lng = ~Longitude, lat = ~Latitude, \n",
    "                         intensity = ~Elevation_8000, gradient = \"Greys\",\n",
    "                         blur = 30, radius = 41,\n",
    "                         minOpacity = 0.05,\n",
    "                         group = \"Industrial Pollution: Spread 8000 m\") %>% \n",
    "              \n",
    "              addHeatmap(data = concind1, lng = ~Longitude, lat = ~Latitude, \n",
    "                         intensity = ~Elevation_9000, gradient = \"Greys\",\n",
    "                         blur = 30, radius = 43,\n",
    "                         minOpacity = 0.05,\n",
    "                         group = \"Industrial Pollution: Spread 9000 m\") %>% \n",
    "              \n",
    "              addHeatmap(data = concind1, lng = ~Longitude, lat = ~Latitude, \n",
    "                         intensity = ~Elevation_10000, gradient = \"Greys\",\n",
    "                         blur = 30, radius = 45,\n",
    "                         minOpacity = 0.05,\n",
    "                         group = \"Industrial Pollution: Spread 10000 m\") %>% \n",
    "              \n",
    "              addLayersControl(\n",
    "                baseGroups = c(\"Basic Map\", \"Topo Map\"),\n",
    "                overlayGroups = c(\"Official Stations\", \"Industrial Pollution\", \n",
    "                                  \"Industrial Pollution: Spread 1000 m\", \"Industrial Pollution: Spread 2000 m\", \n",
    "                                  \"Industrial Pollution: Spread 3000 m\", \"Industrial Pollution: Spread 4000 m\",\n",
    "                                  \"Industrial Pollution: Spread 5000 m\", \"Industrial Pollution: Spread 6000 m\",\n",
    "                                  \"Industrial Pollution: Spread 7000 m\", \"Industrial Pollution: Spread 8000 m\",\n",
    "                                  \"Industrial Pollution: Spread 9000 m\", \"Industrial Pollution: Spread 10000 m\"),\n",
    "                options = layersControlOptions(collapsed = FALSE)\n",
    "              )\n"
   ]
  },
  {
   "cell_type": "code",
   "execution_count": 25,
   "metadata": {},
   "outputs": [
    {
     "name": "stderr",
     "output_type": "stream",
     "text": [
      "Warning message in install.packages(\"xtable\"):\n",
      "“installation of package ‘xtable’ had non-zero exit status”Updating HTML index of packages in '.Library'\n",
      "Making 'packages.html' ... done\n",
      "Updating HTML index of packages in '.Library'\n",
      "Making 'packages.html' ... done\n"
     ]
    },
    {
     "ename": "ERROR",
     "evalue": "Error in value[[3L]](cond): Package ‘IRdisplay’ version 0.5.0 cannot be unloaded:\n Error in unloadNamespace(package) : namespace ‘IRdisplay’ is imported by ‘IRkernel’ so cannot be unloaded\n\n",
     "output_type": "error",
     "traceback": [
      "Error in value[[3L]](cond): Package ‘IRdisplay’ version 0.5.0 cannot be unloaded:\n Error in unloadNamespace(package) : namespace ‘IRdisplay’ is imported by ‘IRkernel’ so cannot be unloaded\n\nTraceback:\n",
      "1. library(IRdisplay)",
      "2. tryCatch(unloadNamespace(package), error = function(e) {\n .     P <- if (!is.null(cc <- conditionCall(e))) \n .         paste(\"Error in\", deparse(cc)[1L], \": \")\n .     else \"Error : \"\n .     stop(gettextf(\"Package %s version %s cannot be unloaded:\\n %s\", \n .         sQuote(package), oldversion, paste0(P, conditionMessage(e), \n .             \"\\n\")), domain = NA)\n . })",
      "3. tryCatchList(expr, classes, parentenv, handlers)",
      "4. tryCatchOne(expr, names, parentenv, handlers[[1L]])",
      "5. value[[3L]](cond)",
      "6. stop(gettextf(\"Package %s version %s cannot be unloaded:\\n %s\", \n .     sQuote(package), oldversion, paste0(P, conditionMessage(e), \n .         \"\\n\")), domain = NA)"
     ]
    }
   ],
   "source": [
    "install.packages(\"xtable\")\n",
    "library(xtable)\n",
    "install.packages(\"IRdisplay\")\n",
    "library(IRdisplay)\n",
    "install.packages(\"repr\")\n",
    "library(repr)\n",
    "\n",
    "data(tli)\n",
    "tli.table <- xtable(tli[1:20, ])\n",
    "digits(tli.table) <- matrix( 0:4, nrow = 20, ncol = ncol(tli)+1 )\n",
    "\n",
    "options(repr.vector.quote=FALSE)\n",
    "\n",
    "display_html(paste(capture.output(print(head(tli.table), type = 'html')), collapse=\"\", sep=\"\"))\n"
   ]
  },
  {
   "cell_type": "code",
   "execution_count": 27,
   "metadata": {},
   "outputs": [
    {
     "data": {
      "text/html": [
       "<style>.container { width:100% !important; }</style>"
      ]
     },
     "metadata": {},
     "output_type": "display_data"
    },
    {
     "data": {
      "text/html": [
       "<iframe src=\"bleh.html\" width=1000, height=1000></iframe> "
      ]
     },
     "metadata": {},
     "output_type": "display_data"
    }
   ],
   "source": [
    "IRdisplay::display_html('<style>.container { width:100% !important; }</style>')\n",
    "IRdisplay::display_html('<iframe src=\"bleh.html\" width=1000, height=1000></iframe> ')"
   ]
  },
  {
   "cell_type": "code",
   "execution_count": null,
   "metadata": {},
   "outputs": [],
   "source": []
  }
 ],
 "metadata": {
  "kernelspec": {
   "display_name": "R",
   "language": "R",
   "name": "ir"
  },
  "language_info": {
   "codemirror_mode": "r",
   "file_extension": ".r",
   "mimetype": "text/x-r-source",
   "name": "R",
   "pygments_lexer": "r",
   "version": "3.5.1"
  }
 },
 "nbformat": 4,
 "nbformat_minor": 2
}
